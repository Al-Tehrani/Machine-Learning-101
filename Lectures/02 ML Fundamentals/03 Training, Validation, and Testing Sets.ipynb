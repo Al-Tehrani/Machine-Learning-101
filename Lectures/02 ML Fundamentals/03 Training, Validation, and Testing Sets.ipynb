{
 "cells": [
  {
   "cell_type": "markdown",
   "metadata": {},
   "source": [
    "<img src=\"./images/banner.png\" width=\"800\">"
   ]
  },
  {
   "cell_type": "markdown",
   "metadata": {},
   "source": [
    "# Training, Validation, and Testing Sets"
   ]
  },
  {
   "cell_type": "markdown",
   "metadata": {},
   "source": [
    "In machine learning, one of the most crucial aspects of building robust and generalized models is properly splitting your data into different subsets. This process is essential to ensure that your model can learn from the data, optimize its performance, and provide an unbiased evaluation of its predictive capabilities.\n"
   ]
  },
  {
   "cell_type": "markdown",
   "metadata": {},
   "source": [
    "The importance of data splitting lies in its ability to prevent overfitting, which occurs when a model learns the noise and specific patterns in the training data too well, resulting in poor performance on new, unseen data. By dividing your data into separate sets for training, validation, and testing, you can mitigate overfitting and assess your model's performance more accurately.\n"
   ]
  },
  {
   "cell_type": "markdown",
   "metadata": {},
   "source": [
    "In this lecture, we will explore the three key datasets used in machine learning:\n",
    "\n",
    "1. **Training Set**: The subset of data used to train the model and learn its parameters.\n",
    "2. **Validation Set**: The subset of data used for model selection, hyperparameter tuning, and to prevent overfitting during the training process.\n",
    "3. **Testing Set**: The subset of data used to evaluate the final model's performance on unseen data and provide an unbiased estimate of its generalization ability.\n"
   ]
  },
  {
   "cell_type": "markdown",
   "metadata": {},
   "source": [
    "<img src=\"./images/data-split.png\" width=\"800\">"
   ]
  },
  {
   "cell_type": "markdown",
   "metadata": {},
   "source": [
    "By understanding the roles and importance of these datasets, you'll be able to develop more robust and reliable machine learning models that can generalize well to new, unseen data.\n"
   ]
  },
  {
   "cell_type": "markdown",
   "metadata": {},
   "source": [
    "Throughout this lecture, we'll dive deeper into each of these datasets, explore different data splitting techniques, discuss best practices and considerations, and provide hands-on examples to reinforce your understanding. By the end of this lecture, you'll have a solid foundation in data splitting and be well-equipped to apply these concepts to your own machine learning projects."
   ]
  },
  {
   "cell_type": "markdown",
   "metadata": {},
   "source": [
    "**Table of contents**<a id='toc0_'></a>    \n",
    "- [Training Set](#toc1_)    \n",
    "- [Validation Set](#toc2_)    \n",
    "- [Testing Set](#toc3_)    \n",
    "- [Data Splitting Techniques](#toc4_)    \n",
    "  - [Holdout Method](#toc4_1_)    \n",
    "  - [Cross-Validation](#toc4_2_)    \n",
    "  - [Train-Validation-Test Split](#toc4_3_)    \n",
    "- [Best Practices and Considerations](#toc5_)    \n",
    "  - [Importance of Representative Sampling](#toc5_1_)    \n",
    "  - [Stratification for Imbalanced Datasets](#toc5_2_)    \n",
    "  - [Handling Time Series Data](#toc5_3_)    \n",
    "  - [Avoiding Data Leakage](#toc5_4_)    \n",
    "- [Hands-on Example](#toc6_)    \n",
    "  - [Step 1: Importing Libraries and Loading the Dataset](#toc6_1_)    \n",
    "  - [Step 2: Splitting the Data into Training, Validation, and Testing Sets](#toc6_2_)    \n",
    "  - [Step 3: Verifying the Split Sizes](#toc6_3_)    \n",
    "  - [Step 4: Visualizing the Split Datasets](#toc6_4_)    \n",
    "- [Summary](#toc7_)    \n",
    "\n",
    "<!-- vscode-jupyter-toc-config\n",
    "\tnumbering=false\n",
    "\tanchor=true\n",
    "\tflat=false\n",
    "\tminLevel=2\n",
    "\tmaxLevel=6\n",
    "\t/vscode-jupyter-toc-config -->\n",
    "<!-- THIS CELL WILL BE REPLACED ON TOC UPDATE. DO NOT WRITE YOUR TEXT IN THIS CELL -->"
   ]
  },
  {
   "cell_type": "markdown",
   "metadata": {},
   "source": [
    "## <a id='toc1_'></a>[Training Set](#toc0_)"
   ]
  },
  {
   "cell_type": "markdown",
   "metadata": {},
   "source": [
    "The training set is the subset of data used to train a machine learning model and learn its parameters. It is the largest portion of the data, typically comprising 60-80% of the entire dataset, depending on the size and complexity of the problem.\n"
   ]
  },
  {
   "cell_type": "markdown",
   "metadata": {},
   "source": [
    "The purpose of the training set is to provide the model with enough examples to learn the underlying patterns, relationships, and structures within the data. During the training process, the model iteratively adjusts its internal parameters to minimize the difference between its predictions and the actual target values in the training set. This process is known as model fitting or learning.\n"
   ]
  },
  {
   "cell_type": "markdown",
   "metadata": {},
   "source": [
    "For example, in a supervised learning problem like image classification, the training set would consist of a large collection of labeled images. Each image would have its corresponding class or label, such as \"cat,\" \"dog,\" or \"bird.\" The model would use this labeled data to learn the distinguishing features and patterns associated with each class, enabling it to classify new, unseen images accurately.\n"
   ]
  },
  {
   "cell_type": "markdown",
   "metadata": {},
   "source": [
    "It is important to ensure that the training set is representative of the problem domain and contains a diverse range of examples. A well-constructed training set should cover various scenarios, edge cases, and potential variations that the model may encounter in real-world applications. This diversity helps the model generalize better and reduces the risk of overfitting.\n"
   ]
  },
  {
   "cell_type": "markdown",
   "metadata": {},
   "source": [
    "However, it is crucial to strike a balance and avoid using too much data for training. If the training set is excessively large, it can lead to increased computational complexity and longer training times. Moreover, allocating too much data to the training set may leave insufficient data for validation and testing, which are essential for model selection and performance evaluation.\n"
   ]
  },
  {
   "cell_type": "markdown",
   "metadata": {},
   "source": [
    "In summary, the training set is the foundation upon which a machine learning model is built. It provides the necessary data for the model to learn and adapt its parameters, enabling it to capture the underlying patterns and relationships within the data. By carefully constructing and utilizing the training set, you can develop models that generalize well to new, unseen data and solve real-world problems effectively."
   ]
  },
  {
   "cell_type": "markdown",
   "metadata": {},
   "source": [
    "## <a id='toc2_'></a>[Validation Set](#toc0_)"
   ]
  },
  {
   "cell_type": "markdown",
   "metadata": {},
   "source": [
    "The validation set is a subset of data used to evaluate and fine-tune a machine learning model during the training process. It plays a crucial role in model selection, hyperparameter tuning, and preventing overfitting.\n"
   ]
  },
  {
   "cell_type": "markdown",
   "metadata": {},
   "source": [
    "The purpose of the validation set is to provide an unbiased evaluation of the model's performance on data that it hasn't seen during training. By assessing the model's performance on the validation set, you can make informed decisions about model selection and hyperparameter tuning.\n"
   ]
  },
  {
   "cell_type": "markdown",
   "metadata": {},
   "source": [
    "Model selection refers to the process of choosing the best model architecture or algorithm for a given problem. For example, you may compare different models like decision trees, random forests, or support vector machines to determine which one performs best on the validation set. The model with the highest performance metrics, such as accuracy or F1 score, is typically selected as the final model.\n"
   ]
  },
  {
   "cell_type": "markdown",
   "metadata": {},
   "source": [
    "Hyperparameter tuning involves adjusting the model's hyperparameters, which are the settings that control the learning process. These hyperparameters can include learning rate, regularization strength, number of hidden layers in a neural network, or the depth of a decision tree. By systematically varying the hyperparameters and evaluating the model's performance on the validation set, you can identify the optimal combination of hyperparameters that yields the best results.\n"
   ]
  },
  {
   "cell_type": "markdown",
   "metadata": {},
   "source": [
    "The validation set also helps prevent overfitting, which occurs when a model learns the noise and specific patterns in the training data too well, resulting in poor generalization to new, unseen data. By monitoring the model's performance on the validation set during training, you can detect overfitting if the model's performance on the validation set starts to degrade while its performance on the training set continues to improve. This divergence indicates that the model is memorizing the training data rather than learning generalizable patterns.\n"
   ]
  },
  {
   "cell_type": "markdown",
   "metadata": {},
   "source": [
    "To mitigate overfitting, you can employ techniques such as early stopping, where you halt the training process when the model's performance on the validation set starts to deteriorate. Additionally, you can use regularization methods like L1/L2 regularization or dropout to discourage the model from relying too heavily on specific features or neurons.\n"
   ]
  },
  {
   "cell_type": "markdown",
   "metadata": {},
   "source": [
    "It's important to note that the validation set should be representative of the problem domain and independent of the training set. It should not be used to make any decisions or adjustments to the model after the final model selection and hyperparameter tuning are complete. Otherwise, it may lead to a biased evaluation of the model's performance.\n"
   ]
  },
  {
   "cell_type": "markdown",
   "metadata": {},
   "source": [
    "In summary, the validation set is an essential component of the machine learning workflow. It allows you to assess the model's performance on unseen data, guide model selection and hyperparameter tuning, and detect and prevent overfitting. By effectively utilizing the validation set, you can develop models that generalize well and achieve robust performance on real-world tasks."
   ]
  },
  {
   "cell_type": "markdown",
   "metadata": {},
   "source": [
    "## <a id='toc3_'></a>[Testing Set](#toc0_)"
   ]
  },
  {
   "cell_type": "markdown",
   "metadata": {},
   "source": [
    "The testing set, also known as the test set or hold-out set, is a subset of data used to evaluate the performance of a machine learning model after it has been trained and validated. It provides an unbiased estimate of the model's generalization ability, which is its capacity to perform well on new, unseen data.\n"
   ]
  },
  {
   "cell_type": "markdown",
   "metadata": {},
   "source": [
    "The purpose of the testing set is to simulate real-world scenarios where the model is exposed to data it has never encountered before. By evaluating the model's performance on the testing set, you can assess how well it has learned to generalize from the training data and how effectively it can make predictions or decisions on new, unseen instances.\n"
   ]
  },
  {
   "cell_type": "markdown",
   "metadata": {},
   "source": [
    "The testing set should be completely independent of the training and validation sets. It should not be used during the model training or selection process to avoid any bias or information leakage. The model should only be evaluated on the testing set once, after all the training, validation, and model selection steps are complete.\n"
   ]
  },
  {
   "cell_type": "markdown",
   "metadata": {},
   "source": [
    "When evaluating the model on the testing set, you can use various performance metrics depending on the problem type and the specific requirements of your application. For example:\n",
    "\n",
    "- In classification tasks, you may use metrics such as accuracy, precision, recall, F1 score, or area under the ROC curve (AUC-ROC).\n",
    "- In regression tasks, you may use metrics like mean squared error (MSE), mean absolute error (MAE), or R-squared (coefficient of determination).\n",
    "- In more complex problems, such as object detection or semantic segmentation, you may employ specialized metrics like intersection over union (IoU) or mean average precision (mAP).\n"
   ]
  },
  {
   "cell_type": "markdown",
   "metadata": {},
   "source": [
    "It's crucial to choose appropriate metrics that align with the goals and requirements of your machine learning project.\n"
   ]
  },
  {
   "cell_type": "markdown",
   "metadata": {},
   "source": [
    "The size of the testing set can vary depending on the size of the overall dataset and the specific problem domain. A common practice is to allocate 20-30% of the total data for testing, while the remaining data is split between the training and validation sets. However, the exact proportions may differ based on factors such as the complexity of the problem, the amount of available data, and the computational resources at hand.\n"
   ]
  },
  {
   "cell_type": "markdown",
   "metadata": {},
   "source": [
    "It's important to ensure that the testing set is representative of the real-world data the model will encounter in production. It should cover a diverse range of scenarios, including edge cases and potential variations, to provide a comprehensive assessment of the model's performance.\n"
   ]
  },
  {
   "cell_type": "markdown",
   "metadata": {},
   "source": [
    "Once the model is evaluated on the testing set, you can report the performance metrics and use them to communicate the model's effectiveness to stakeholders or compare it with other models in the literature. If the model's performance on the testing set is satisfactory and meets the project's requirements, it can be considered ready for deployment and real-world use.\n"
   ]
  },
  {
   "cell_type": "markdown",
   "metadata": {},
   "source": [
    "In summary, the testing set is a critical component of the machine learning workflow that allows you to assess the model's generalization ability and performance on unseen data. By evaluating the model on the testing set, you can obtain an unbiased estimate of how well it will perform in real-world scenarios. Proper utilization of the testing set ensures the reliability and effectiveness of your machine learning model."
   ]
  },
  {
   "cell_type": "markdown",
   "metadata": {},
   "source": [
    "## <a id='toc4_'></a>[Data Splitting Techniques](#toc0_)"
   ]
  },
  {
   "cell_type": "markdown",
   "metadata": {},
   "source": [
    "When working with machine learning models, it's essential to split your data into appropriate subsets for training, validation, and testing. There are several techniques commonly used for data splitting, each with its own advantages and considerations. Let's explore these techniques in detail.\n"
   ]
  },
  {
   "cell_type": "markdown",
   "metadata": {},
   "source": [
    "### <a id='toc4_1_'></a>[Holdout Method](#toc0_)\n"
   ]
  },
  {
   "cell_type": "markdown",
   "metadata": {},
   "source": [
    "The holdout method is the simplest approach to splitting data into training and testing sets. In this method, you randomly divide your data into two subsets: a training set and a testing set. The training set is used to train the model, while the testing set is used to evaluate its performance on unseen data.\n"
   ]
  },
  {
   "cell_type": "markdown",
   "metadata": {},
   "source": [
    "<img src=\"./images/data-split.png\" width=\"800\">"
   ]
  },
  {
   "cell_type": "markdown",
   "metadata": {},
   "source": [
    "The main advantage of the holdout method is its simplicity and speed. It is straightforward to implement and computationally efficient, especially for large datasets.\n"
   ]
  },
  {
   "cell_type": "markdown",
   "metadata": {},
   "source": [
    "However, the holdout method has some limitations and considerations:\n",
    "\n",
    "- The split is random, so the performance can vary depending on the specific instances that end up in each subset.\n",
    "- It may not provide a reliable estimate of the model's performance if the dataset is small or if there are significant variations in the data.\n",
    "- It does not account for the potential bias introduced by a single split.\n"
   ]
  },
  {
   "cell_type": "markdown",
   "metadata": {},
   "source": [
    "To mitigate these limitations, you can use more advanced techniques like cross-validation.\n"
   ]
  },
  {
   "cell_type": "markdown",
   "metadata": {},
   "source": [
    "### <a id='toc4_2_'></a>[Cross-Validation](#toc0_)\n"
   ]
  },
  {
   "cell_type": "markdown",
   "metadata": {},
   "source": [
    "Cross-validation is a technique that involves splitting the data into multiple subsets and iteratively training and evaluating the model on different combinations of these subsets. It provides a more robust and reliable estimate of the model's performance. There are several variations of cross-validation:\n",
    "\n",
    "1. **K-Fold Cross-Validation**: In this method, the data is divided into K equally sized folds or subsets. The model is trained and evaluated K times, each time using a different fold as the testing set and the remaining K-1 folds as the training set. The performance is then averaged across all K iterations to obtain a more stable estimate.\n",
    "\n",
    "2. **Stratified K-Fold Cross-Validation**: This is a variation of K-fold cross-validation that ensures the distribution of classes or target values is maintained in each fold. It is particularly useful for imbalanced datasets or when the target variable has a skewed distribution.\n",
    "\n",
    "3. **Leave-One-Out Cross-Validation (LOOCV)**: In this method, each instance in the dataset is used as a testing set once, while the remaining instances are used for training. It is equivalent to K-fold cross-validation with K equal to the number of instances in the dataset. LOOCV is computationally expensive and is typically used for small datasets.\n"
   ]
  },
  {
   "cell_type": "markdown",
   "metadata": {},
   "source": [
    "<img src=\"./images/k-fold.png\" width=\"800\">"
   ]
  },
  {
   "cell_type": "markdown",
   "metadata": {},
   "source": [
    "Cross-validation helps assess the model's performance more reliably and reduces the risk of overfitting. It is especially useful when the dataset is limited in size.\n"
   ]
  },
  {
   "cell_type": "markdown",
   "metadata": {},
   "source": [
    "### <a id='toc4_3_'></a>[Train-Validation-Test Split](#toc0_)\n"
   ]
  },
  {
   "cell_type": "markdown",
   "metadata": {},
   "source": [
    "The train-validation-test split is a common approach that involves dividing the data into three subsets: a training set, a validation set, and a testing set.\n",
    "\n",
    "- The training set is used to train the model and learn its parameters.\n",
    "- The validation set is used for model selection, hyperparameter tuning, and to prevent overfitting during the training process.\n",
    "- The testing set is used to evaluate the final model's performance on unseen data and provide an unbiased estimate of its generalization ability.\n"
   ]
  },
  {
   "cell_type": "markdown",
   "metadata": {},
   "source": [
    "Common ratios for splitting the data into these three subsets include:\n",
    "\n",
    "- 60% training, 20% validation, 20% testing\n",
    "- 70% training, 15% validation, 15% testing\n"
   ]
  },
  {
   "cell_type": "markdown",
   "metadata": {},
   "source": [
    "The exact ratios can vary depending on the size of the dataset and the specific requirements of the problem.\n"
   ]
  },
  {
   "cell_type": "markdown",
   "metadata": {},
   "source": [
    "When splitting the data, it's important to ensure that each subset is representative of the overall data distribution. Stratified sampling can be used to maintain the class distribution across the subsets, especially for imbalanced datasets.\n"
   ]
  },
  {
   "cell_type": "markdown",
   "metadata": {},
   "source": [
    "In summary, data splitting is a crucial step in the machine learning workflow. The choice of splitting technique depends on the size and characteristics of the dataset, as well as the specific requirements of the problem. Holdout method, cross-validation, and train-validation-test split are common techniques used to divide the data into appropriate subsets for training, validation, and testing. By applying these techniques effectively, you can obtain reliable estimates of your model's performance and ensure its generalization ability."
   ]
  },
  {
   "cell_type": "markdown",
   "metadata": {},
   "source": [
    "## <a id='toc5_'></a>[Best Practices and Considerations](#toc0_)"
   ]
  },
  {
   "cell_type": "markdown",
   "metadata": {},
   "source": [
    "When splitting data into training, validation, and testing sets, there are several best practices and considerations to keep in mind. These practices help ensure the reliability and validity of your machine learning models and prevent common pitfalls. Let's explore these considerations in detail.\n"
   ]
  },
  {
   "cell_type": "markdown",
   "metadata": {},
   "source": [
    "### <a id='toc5_1_'></a>[Importance of Representative Sampling](#toc0_)\n"
   ]
  },
  {
   "cell_type": "markdown",
   "metadata": {},
   "source": [
    "One of the key principles of data splitting is to ensure that each subset is representative of the overall data distribution. The training, validation, and testing sets should capture the variability and characteristics present in the original dataset.\n"
   ]
  },
  {
   "cell_type": "markdown",
   "metadata": {},
   "source": [
    "If the subsets are not representative, the model may learn biased patterns or fail to generalize well to new, unseen data. This can lead to poor performance and unreliable predictions in real-world scenarios.\n"
   ]
  },
  {
   "cell_type": "markdown",
   "metadata": {},
   "source": [
    "To achieve representative sampling, you can use techniques like random sampling or stratified sampling. Random sampling involves randomly selecting instances from the dataset, while stratified sampling ensures that the class distribution or key characteristics are maintained in each subset.\n"
   ]
  },
  {
   "cell_type": "markdown",
   "metadata": {},
   "source": [
    "### <a id='toc5_2_'></a>[Stratification for Imbalanced Datasets](#toc0_)\n"
   ]
  },
  {
   "cell_type": "markdown",
   "metadata": {},
   "source": [
    "Imbalanced datasets are common in many real-world applications, where the distribution of classes or target values is skewed. In such cases, it's important to use stratification when splitting the data.\n"
   ]
  },
  {
   "cell_type": "markdown",
   "metadata": {},
   "source": [
    "Stratification ensures that the class distribution is preserved in each subset, preventing the model from being biased towards the majority class. By maintaining the same class proportions in the training, validation, and testing sets, you can assess the model's performance more accurately and avoid misleading results.\n"
   ]
  },
  {
   "cell_type": "markdown",
   "metadata": {},
   "source": [
    "Stratified sampling techniques, such as stratified k-fold cross-validation, can be used to handle imbalanced datasets effectively.\n"
   ]
  },
  {
   "cell_type": "markdown",
   "metadata": {},
   "source": [
    "### <a id='toc5_3_'></a>[Handling Time Series Data](#toc0_)\n"
   ]
  },
  {
   "cell_type": "markdown",
   "metadata": {},
   "source": [
    "Time series data presents unique challenges when it comes to data splitting. In time series problems, the temporal order and dependencies between observations are crucial. Randomly splitting time series data can lead to temporal leakage, where future information is inadvertently included in the training set.\n"
   ]
  },
  {
   "cell_type": "markdown",
   "metadata": {},
   "source": [
    "To handle time series data properly, you should split the data based on a specific time point or timestamp. The training set should include data up to a certain point in time, while the validation and testing sets should contain data from later time periods. This ensures that the model is evaluated on future data and mimics real-world scenarios where predictions are made based on historical information.\n"
   ]
  },
  {
   "cell_type": "markdown",
   "metadata": {},
   "source": [
    "Techniques like rolling window cross-validation or time series-specific evaluation metrics can be employed to assess the model's performance on time series data accurately.\n"
   ]
  },
  {
   "cell_type": "markdown",
   "metadata": {},
   "source": [
    "### <a id='toc5_4_'></a>[Avoiding Data Leakage](#toc0_)\n"
   ]
  },
  {
   "cell_type": "markdown",
   "metadata": {},
   "source": [
    "Data leakage occurs when information from the testing or validation set is inadvertently used during the training process. This can happen due to various reasons, such as improper data preprocessing, feature engineering, or incorrect data splitting.\n"
   ]
  },
  {
   "cell_type": "markdown",
   "metadata": {},
   "source": [
    "Data leakage can lead to overly optimistic performance estimates and models that fail to generalize well to new, unseen data. It is crucial to be cautious and ensure that no information from the testing or validation sets is leaked into the training process.\n"
   ]
  },
  {
   "cell_type": "markdown",
   "metadata": {},
   "source": [
    "Some common practices to avoid data leakage include:\n",
    "\n",
    "- Performing data preprocessing and feature engineering steps only on the training set and then applying the same transformations to the validation and testing sets.\n",
    "- Ensuring that any data-dependent operations, such as normalization or imputation, are performed separately for each subset.\n",
    "- Avoiding the use of future information or data that would not be available at the time of prediction.\n"
   ]
  },
  {
   "cell_type": "markdown",
   "metadata": {},
   "source": [
    "By being aware of data leakage and implementing proper data handling practices, you can ensure the integrity and reliability of your machine learning models.\n"
   ]
  },
  {
   "cell_type": "markdown",
   "metadata": {},
   "source": [
    "In summary, representative sampling, stratification for imbalanced datasets, handling time series data, and avoiding data leakage are important considerations when splitting data for machine learning. By following these best practices, you can ensure that your models are trained on representative and unbiased data, leading to more accurate and reliable predictions in real-world scenarios."
   ]
  },
  {
   "cell_type": "markdown",
   "metadata": {},
   "source": [
    "## <a id='toc6_'></a>[Hands-on Example](#toc0_)"
   ]
  },
  {
   "cell_type": "markdown",
   "metadata": {},
   "source": [
    "Now that we've covered the concepts and techniques for data splitting, let's dive into a hands-on example to solidify our understanding. We'll use a sample dataset and demonstrate how to split it into training, validation, and testing sets using Python.\n"
   ]
  },
  {
   "cell_type": "markdown",
   "metadata": {},
   "source": [
    "### <a id='toc6_1_'></a>[Step 1: Importing Libraries and Loading the Dataset](#toc0_)\n"
   ]
  },
  {
   "cell_type": "markdown",
   "metadata": {},
   "source": [
    "First, let's import the necessary libraries and load our sample dataset. In this example, we'll use the famous Iris dataset, which consists of measurements of sepal length, sepal width, petal length, and petal width for three different species of Iris flowers.\n"
   ]
  },
  {
   "cell_type": "code",
   "execution_count": 1,
   "metadata": {},
   "outputs": [],
   "source": [
    "from sklearn.datasets import load_iris\n",
    "from sklearn.model_selection import train_test_split\n",
    "\n",
    "# Load the Iris dataset\n",
    "iris = load_iris()\n",
    "X = iris.data\n",
    "y = iris.target"
   ]
  },
  {
   "cell_type": "code",
   "execution_count": 2,
   "metadata": {},
   "outputs": [
    {
     "data": {
      "text/plain": [
       "((150, 4), (150,))"
      ]
     },
     "execution_count": 2,
     "metadata": {},
     "output_type": "execute_result"
    }
   ],
   "source": [
    "X.shape, y.shape"
   ]
  },
  {
   "cell_type": "markdown",
   "metadata": {},
   "source": [
    "### <a id='toc6_2_'></a>[Step 2: Splitting the Data into Training, Validation, and Testing Sets](#toc0_)\n"
   ]
  },
  {
   "cell_type": "markdown",
   "metadata": {},
   "source": [
    "Next, we'll split the data into training, validation, and testing sets using the `train_test_split` function from scikit-learn. We'll use a 60-20-20 split ratio.\n"
   ]
  },
  {
   "cell_type": "code",
   "execution_count": 3,
   "metadata": {},
   "outputs": [],
   "source": [
    "# Split the data into training and temporary sets\n",
    "X_train, X_temp, y_train, y_temp = train_test_split(\n",
    "    X, y, test_size=0.4, random_state=42\n",
    ")\n",
    "\n",
    "# Split the temporary set into validation and testing sets\n",
    "X_val, X_test, y_val, y_test = train_test_split(\n",
    "    X_temp, y_temp, test_size=0.5, random_state=42\n",
    ")"
   ]
  },
  {
   "cell_type": "code",
   "execution_count": 4,
   "metadata": {},
   "outputs": [
    {
     "data": {
      "text/plain": [
       "((90, 4), (90,))"
      ]
     },
     "execution_count": 4,
     "metadata": {},
     "output_type": "execute_result"
    }
   ],
   "source": [
    "X_train.shape, y_train.shape"
   ]
  },
  {
   "cell_type": "code",
   "execution_count": 5,
   "metadata": {},
   "outputs": [
    {
     "data": {
      "text/plain": [
       "((30, 4), (30,))"
      ]
     },
     "execution_count": 5,
     "metadata": {},
     "output_type": "execute_result"
    }
   ],
   "source": [
    "X_test.shape, y_test.shape"
   ]
  },
  {
   "cell_type": "markdown",
   "metadata": {},
   "source": [
    "In the first split, we divide the data into training and temporary sets, with 60% for training and 40% for the temporary set. Then, we further split the temporary set into validation and testing sets, each containing 20% of the original data.\n"
   ]
  },
  {
   "cell_type": "markdown",
   "metadata": {},
   "source": [
    "### <a id='toc6_3_'></a>[Step 3: Verifying the Split Sizes](#toc0_)\n"
   ]
  },
  {
   "cell_type": "markdown",
   "metadata": {},
   "source": [
    "Let's verify the sizes of each subset to ensure the splitting was performed correctly.\n"
   ]
  },
  {
   "cell_type": "code",
   "execution_count": 6,
   "metadata": {},
   "outputs": [
    {
     "name": "stdout",
     "output_type": "stream",
     "text": [
      "Training set size: 90\n",
      "Validation set size: 30\n",
      "Testing set size: 30\n"
     ]
    }
   ],
   "source": [
    "print(\"Training set size:\", len(X_train))\n",
    "print(\"Validation set size:\", len(X_val))\n",
    "print(\"Testing set size:\", len(X_test))"
   ]
  },
  {
   "cell_type": "markdown",
   "metadata": {},
   "source": [
    "As expected, the training set contains 90 instances (60% of the total data), while the validation and testing sets each contain 30 instances (20% of the total data).\n"
   ]
  },
  {
   "cell_type": "markdown",
   "metadata": {},
   "source": [
    "### <a id='toc6_4_'></a>[Step 4: Visualizing the Split Datasets](#toc0_)\n"
   ]
  },
  {
   "cell_type": "markdown",
   "metadata": {},
   "source": [
    "Finally, let's visualize the split datasets to get a better understanding of their distribution. We'll use a scatter plot to visualize the sepal length and sepal width features for each subset.\n"
   ]
  },
  {
   "cell_type": "code",
   "execution_count": 7,
   "metadata": {},
   "outputs": [
    {
     "data": {
      "image/png": "[encoded data removed]",
      "text/plain": [
       "<Figure size 1200x400 with 3 Axes>"
      ]
     },
     "metadata": {},
     "output_type": "display_data"
    }
   ],
   "source": [
    "import matplotlib.pyplot as plt\n",
    "\n",
    "plt.figure(figsize=(12, 4))\n",
    "\n",
    "plt.subplot(131)\n",
    "plt.scatter(X_train[:, 0], X_train[:, 1], c=y_train)\n",
    "plt.title(\"Training Set\")\n",
    "plt.xlabel(\"Sepal Length\")\n",
    "plt.ylabel(\"Sepal Width\")\n",
    "\n",
    "plt.subplot(132)\n",
    "plt.scatter(X_val[:, 0], X_val[:, 1], c=y_val)\n",
    "plt.title(\"Validation Set\")\n",
    "plt.xlabel(\"Sepal Length\")\n",
    "plt.ylabel(\"Sepal Width\")\n",
    "\n",
    "plt.subplot(133)\n",
    "plt.scatter(X_test[:, 0], X_test[:, 1], c=y_test)\n",
    "plt.title(\"Testing Set\")\n",
    "plt.xlabel(\"Sepal Length\")\n",
    "plt.ylabel(\"Sepal Width\")\n",
    "\n",
    "plt.tight_layout()\n",
    "plt.show()"
   ]
  },
  {
   "cell_type": "markdown",
   "metadata": {},
   "source": [
    "The resulting plot will display the distribution of the sepal length and sepal width features for each subset, with different colors representing the three Iris species.\n"
   ]
  },
  {
   "cell_type": "markdown",
   "metadata": {},
   "source": [
    "By visualizing the split datasets, you can ensure that each subset maintains a similar distribution and representation of the original data.\n"
   ]
  },
  {
   "cell_type": "markdown",
   "metadata": {},
   "source": [
    "In this hands-on example, we demonstrated how to split a dataset into training, validation, and testing sets using scikit-learn's `train_test_split` function. We also verified the sizes of each subset and visualized their distributions using a scatter plot. This example provides a practical understanding of how to apply data splitting techniques to your own machine learning projects."
   ]
  },
  {
   "cell_type": "markdown",
   "metadata": {},
   "source": [
    "## <a id='toc7_'></a>[Summary](#toc0_)"
   ]
  },
  {
   "cell_type": "markdown",
   "metadata": {},
   "source": [
    "In this lecture, we explored the fundamental concepts and techniques related to data splitting in machine learning. We discussed the importance of dividing data into training, validation, and testing sets to ensure effective model development and evaluation.\n"
   ]
  },
  {
   "cell_type": "markdown",
   "metadata": {},
   "source": [
    "Let's recap the key points and takeaways from this lecture:\n",
    "\n",
    "1. **Importance of Data Splitting:**\n",
    "   - Data splitting is crucial for building robust and generalizable machine learning models.\n",
    "   - It helps prevent overfitting and allows for unbiased evaluation of the model's performance.\n",
    "   - Proper data splitting ensures that the model learns from the training data, optimizes its performance using the validation set, and provides a reliable estimate of its performance on unseen data using the testing set.\n",
    "\n",
    "2. **Training Set:**\n",
    "   - The training set is used to train the model and learn its parameters.\n",
    "   - It typically comprises the majority of the data (60-80%).\n",
    "   - The model learns the underlying patterns and relationships from the training data.\n",
    "\n",
    "3. **Validation Set:**\n",
    "   - The validation set is used for model selection, hyperparameter tuning, and preventing overfitting.\n",
    "   - It helps guide the model optimization process and provides an unbiased evaluation of the model's performance during training.\n",
    "   - The validation set is crucial for making informed decisions about the model architecture and hyperparameters.\n",
    "\n",
    "4. **Testing Set:**\n",
    "   - The testing set is used to evaluate the final model's performance on unseen data.\n",
    "   - It provides an unbiased estimate of the model's generalization ability.\n",
    "   - The testing set should be used only once, after the model has been trained and validated, to assess its real-world performance.\n",
    "\n",
    "5. **Data Splitting Techniques:**\n",
    "   - Holdout Method: A simple split of data into training and testing sets, but it has limitations.\n",
    "   - Cross-Validation: Techniques like K-Fold, Stratified K-Fold, and Leave-One-Out Cross-Validation provide more robust and reliable estimates of the model's performance.\n",
    "   - Train-Validation-Test Split: Splitting the data into three subsets (training, validation, and testing) is a common approach, with typical ratios such as 60-20-20 or 70-15-15.\n",
    "\n",
    "6. **Best Practices and Considerations:**\n",
    "   - Ensure that each subset is representative of the overall data distribution.\n",
    "   - Use stratified sampling for imbalanced datasets to maintain class distribution across subsets.\n",
    "   - Be cautious of data leakage and ensure that the testing set remains completely unseen during model development.\n",
    "   - Choose appropriate evaluation metrics that align with the problem domain and business goals.\n",
    "\n",
    "7. **Hands-on Example:**\n",
    "   - We demonstrated how to split a dataset into training, validation, and testing sets using Python and scikit-learn.\n",
    "   - We visualized the split datasets to ensure proper distribution and representation.\n",
    "   - The hands-on example provided a practical understanding of applying data splitting techniques to real-world datasets.\n"
   ]
  },
  {
   "cell_type": "markdown",
   "metadata": {},
   "source": [
    "By understanding and applying the concepts and techniques covered in this lecture, you'll be well-equipped to handle data splitting effectively in your machine learning projects. Remember, proper data splitting is essential for building reliable, generalizable, and high-performing models that can tackle real-world challenges.\n"
   ]
  },
  {
   "cell_type": "markdown",
   "metadata": {},
   "source": [
    "As you continue your journey in machine learning, keep these key takeaways in mind and practice applying these techniques to various datasets and problem domains. With experience and practice, you'll develop a strong intuition for data splitting and be able to make informed decisions that lead to successful machine learning projects."
   ]
  }
 ],
 "metadata": {
  "kernelspec": {
   "display_name": "py310",
   "language": "python",
   "name": "python3"
  },
  "language_info": {
   "codemirror_mode": {
    "name": "ipython",
    "version": 3
   },
   "file_extension": ".py",
   "mimetype": "text/x-python",
   "name": "python",
   "nbconvert_exporter": "python",
   "pygments_lexer": "ipython3",
   "version": "3.10.12"
  }
 },
 "nbformat": 4,
 "nbformat_minor": 2
}
